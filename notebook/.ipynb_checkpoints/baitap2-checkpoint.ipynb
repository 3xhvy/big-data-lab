{
 "cells": [
  {
   "cell_type": "code",
   "execution_count": 1,
   "id": "f0bcd382",
   "metadata": {},
   "outputs": [
    {
     "name": "stdout",
     "output_type": "stream",
     "text": [
      "Phương sai: 2.0\n",
      "Độ lệch chuẩn: 1.4142135623730951\n"
     ]
    }
   ],
   "source": [
    "from pyspark.sql import SparkSession\n",
    "\n",
    "SparkSession.getActiveSession().stop() if SparkSession.getActiveSession() else None\n",
    "spark = SparkSession.builder \\\n",
    "    .appName(\"BaiTap02\") \\\n",
    "    .master(\"spark://spark-master:7077\") \\\n",
    "    .config(\"spark.submit.deployMode\", \"client\") \\\n",
    "    .config(\"spark.driver.host\", \"jupyter\") \\\n",
    "    .getOrCreate()\n",
    "sc = spark.sparkContext\n",
    "\n",
    "numbers = [1.0, 2.0, 3.0, 4.0, 5.0]\n",
    "rdd = sc.parallelize(numbers)\n",
    "\n",
    "mean = rdd.mean()\n",
    "variance = rdd.map(lambda x: (x - mean)**2).mean()\n",
    "std_dev = variance**0.5\n",
    "\n",
    "print(\"Phương sai:\", variance)\n",
    "print(\"Độ lệch chuẩn:\", std_dev)\n",
    "\n",
    "sc.stop()"
   ]
  },
  {
   "cell_type": "code",
   "execution_count": null,
   "id": "838a7896-dd6f-40e6-9e7b-fe2729ea28f7",
   "metadata": {},
   "outputs": [],
   "source": []
  }
 ],
 "metadata": {
  "kernelspec": {
   "display_name": "Python 3 (ipykernel)",
   "language": "python",
   "name": "python3"
  },
  "language_info": {
   "codemirror_mode": {
    "name": "ipython",
    "version": 3
   },
   "file_extension": ".py",
   "mimetype": "text/x-python",
   "name": "python",
   "nbconvert_exporter": "python",
   "pygments_lexer": "ipython3",
   "version": "3.10.11"
  }
 },
 "nbformat": 4,
 "nbformat_minor": 5
}
