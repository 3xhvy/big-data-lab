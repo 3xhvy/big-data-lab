{
 "cells": [
  {
   "cell_type": "code",
   "execution_count": 3,
   "id": "bf80fc48",
   "metadata": {},
   "outputs": [
    {
     "name": "stdout",
     "output_type": "stream",
     "text": [
      "Tổng các phân số: 151/40\n"
     ]
    }
   ],
   "source": [
    "from pyspark.sql import SparkSession\n",
    "\n",
    "SparkSession.getActiveSession().stop() if SparkSession.getActiveSession() else None\n",
    "spark = SparkSession.builder \\\n",
    "    .appName(\"BaiTap03\") \\\n",
    "    .master(\"spark://spark-master:7077\") \\\n",
    "    .config(\"spark.submit.deployMode\", \"client\") \\\n",
    "    .config(\"spark.driver.host\", \"jupyter\") \\\n",
    "    .getOrCreate()\n",
    "sc = spark.sparkContext\n",
    "\n",
    "def parse_fraction(line):\n",
    "    num, denom = map(int, line.strip().split('/'))\n",
    "    return (num, denom)\n",
    "\n",
    "def add_fractions(f1, f2):\n",
    "    num1, denom1 = f1\n",
    "    num2, denom2 = f2\n",
    "    common_denom = denom1 * denom2\n",
    "    new_num = num1 * denom2 + num2 * denom1\n",
    "    return (new_num, common_denom)\n",
    "\n",
    "def simplify_fraction(fraction):\n",
    "    import math\n",
    "    num, denom = fraction\n",
    "    gcd = math.gcd(num, denom)\n",
    "    return (num // gcd, denom // gcd)\n",
    "\n",
    "rdd = sc.textFile(\"hdfs://namenode:9000/user/hadoop/input/lab3/data_phanso\")\n",
    "fractions = rdd.map(parse_fraction)\n",
    "sum_fraction = fractions.reduce(add_fractions)\n",
    "simplified = simplify_fraction(sum_fraction)\n",
    "\n",
    "print(\"Tổng các phân số:\", f\"{simplified[0]}/{simplified[1]}\")\n",
    "\n",
    "sc.stop()"
   ]
  },
  {
   "cell_type": "code",
   "execution_count": null,
   "id": "76150a26-33bb-4b48-a475-697ee1d7033b",
   "metadata": {},
   "outputs": [],
   "source": []
  }
 ],
 "metadata": {
  "kernelspec": {
   "display_name": "Python 3 (ipykernel)",
   "language": "python",
   "name": "python3"
  },
  "language_info": {
   "codemirror_mode": {
    "name": "ipython",
    "version": 3
   },
   "file_extension": ".py",
   "mimetype": "text/x-python",
   "name": "python",
   "nbconvert_exporter": "python",
   "pygments_lexer": "ipython3",
   "version": "3.10.11"
  }
 },
 "nbformat": 4,
 "nbformat_minor": 5
}
