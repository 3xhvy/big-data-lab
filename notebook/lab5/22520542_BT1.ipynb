{
 "cells": [
  {
   "cell_type": "markdown",
   "id": "9e928209-0769-4134-b2c3-5c3781b2e895",
   "metadata": {
    "id": "9e928209-0769-4134-b2c3-5c3781b2e895"
   },
   "source": [
    "# Thêm các thư viện"
   ]
  },
  {
   "cell_type": "code",
   "execution_count": 7,
   "id": "76a76ea8-c56b-49c7-a4e8-dcaed33bb9fd",
   "metadata": {
    "executionInfo": {
     "elapsed": 638,
     "status": "ok",
     "timestamp": 1746638629211,
     "user": {
      "displayName": "Tri Nguyễn Hồ Duy",
      "userId": "15674853485740644468"
     },
     "user_tz": -420
    },
    "id": "76a76ea8-c56b-49c7-a4e8-dcaed33bb9fd"
   },
   "outputs": [],
   "source": [
    "from graphframes import *\n",
    "from pyspark.storagelevel import StorageLevel\n",
    "from pyspark.sql.functions import col\n",
    "import os\n",
    "from pyspark.sql import SparkSession\n",
    "\n",
    "spark = SparkSession.builder \\\n",
    "    .appName(\"GraphAnalysis\") \\\n",
    "    .getOrCreate()\n"
   ]
  },
  {
   "cell_type": "markdown",
   "id": "c2e5c842-2b69-44d7-b715-9b2684616f82",
   "metadata": {
    "id": "c2e5c842-2b69-44d7-b715-9b2684616f82"
   },
   "source": [
    "# Đọc dữ liệu từ file CSV"
   ]
  },
  {
   "cell_type": "markdown",
   "id": "1cc5ebf1-f4e4-4aae-9702-ec2717c93f28",
   "metadata": {
    "id": "1cc5ebf1-f4e4-4aae-9702-ec2717c93f28"
   },
   "source": [
    "* Đọc thông tin người, là đỉnh của đồ thị"
   ]
  },
  {
   "cell_type": "code",
   "execution_count": 8,
   "id": "806c09ea-a2d6-42d7-909e-bf3cc7503b7d",
   "metadata": {
    "executionInfo": {
     "elapsed": 10513,
     "status": "ok",
     "timestamp": 1746638639727,
     "user": {
      "displayName": "Tri Nguyễn Hồ Duy",
      "userId": "15674853485740644468"
     },
     "user_tz": -420
    },
    "id": "806c09ea-a2d6-42d7-909e-bf3cc7503b7d"
   },
   "outputs": [],
   "source": [
    "v = spark.read.csv(\"data/2_people_data_2k.csv\", header=True, inferSchema=True)"
   ]
  },
  {
   "cell_type": "markdown",
   "id": "4cb71f54-dc44-458b-a3fb-f8e83e2ea64c",
   "metadata": {
    "id": "4cb71f54-dc44-458b-a3fb-f8e83e2ea64c"
   },
   "source": [
    "* Đọc thông tin quan hệ giữa mọi người, là cạnh của đồ thị"
   ]
  },
  {
   "cell_type": "code",
   "execution_count": 9,
   "id": "e2ec019b-aa40-46cd-81f5-a31e5ccfad8f",
   "metadata": {
    "executionInfo": {
     "elapsed": 3293,
     "status": "ok",
     "timestamp": 1746638643026,
     "user": {
      "displayName": "Tri Nguyễn Hồ Duy",
      "userId": "15674853485740644468"
     },
     "user_tz": -420
    },
    "id": "e2ec019b-aa40-46cd-81f5-a31e5ccfad8f"
   },
   "outputs": [],
   "source": [
    "e = spark.read.csv(\"data/2_connections_data_300k.csv\", header=True, inferSchema=True)"
   ]
  },
  {
   "cell_type": "markdown",
   "id": "e6b30a4b-c303-4aea-9118-8e15df60a0b1",
   "metadata": {
    "id": "e6b30a4b-c303-4aea-9118-8e15df60a0b1"
   },
   "source": [
    "# Tạo đồ thị bằng thư viện GraphFrames"
   ]
  },
  {
   "cell_type": "markdown",
   "id": "ca58d817-5348-4c67-ba4f-577461fa6db7",
   "metadata": {
    "id": "ca58d817-5348-4c67-ba4f-577461fa6db7"
   },
   "source": [
    "### Tạo GraphFrame"
   ]
  },
  {
   "cell_type": "markdown",
   "id": "6b5b2e9e-965c-4e16-a8bc-875a5a993194",
   "metadata": {},
   "source": [
    "> * Người dùng có thể tạo GraphFrames từ các DataFrame đỉnh và cạnh.\n",
    ">> * **DataFrame đỉnh (Vertex DataFrame):** Một DataFrame đỉnh cần chứa một cột đặc biệt có tên là \"id\", chỉ định các ID duy nhất cho mỗi đỉnh trong đồ thị.\n",
    ">> * **DataFrame cạnh (Edge DataFrame):** Một DataFrame cạnh cần chứa hai cột đặc biệt: \"src\" (ID đỉnh nguồn của cạnh) và \"dst\" (ID đỉnh đích của cạnh).\n",
    ">\n",
    "> * Cả hai DataFrame đều có thể có các cột tùy ý khác. Các cột này có thể đại diện cho các thuộc tính của đỉnh và cạnh.\n",
    "> * Một GraphFrame cũng có thể được xây dựng từ một DataFrame duy nhất chứa thông tin về cạnh. Các đỉnh sẽ được suy ra từ các nguồn và đích của các cạnh."
   ]
  },
  {
   "cell_type": "code",
   "execution_count": 10,
   "id": "962a099e-a35e-4445-803b-817241d76389",
   "metadata": {
    "executionInfo": {
     "elapsed": 73,
     "status": "ok",
     "timestamp": 1746638643104,
     "user": {
      "displayName": "Tri Nguyễn Hồ Duy",
      "userId": "15674853485740644468"
     },
     "user_tz": -420
    },
    "id": "962a099e-a35e-4445-803b-817241d76389"
   },
   "outputs": [
    {
     "name": "stderr",
     "output_type": "stream",
     "text": [
      "/usr/local/spark/python/pyspark/sql/dataframe.py:169: UserWarning: DataFrame.sql_ctx is an internal property, and will be removed in future releases. Use DataFrame.sparkSession instead.\n",
      "  warnings.warn(\n"
     ]
    },
    {
     "data": {
      "text/plain": [
       "GraphFrame(v:[id: int, name: string ... 1 more field], e:[src: int, dst: int ... 1 more field])"
      ]
     },
     "execution_count": 10,
     "metadata": {},
     "output_type": "execute_result"
    }
   ],
   "source": [
    "g = GraphFrame(v, e)\n",
    "g.persist(StorageLevel.MEMORY_AND_DISK)"
   ]
  },
  {
   "cell_type": "markdown",
   "id": "4fd72226-3e7b-49de-babb-9423a3273a57",
   "metadata": {
    "id": "4fd72226-3e7b-49de-babb-9423a3273a57"
   },
   "source": [
    "### Hiển thị tập đỉnh và cạnh dưới dạng Dataframe"
   ]
  },
  {
   "cell_type": "code",
   "execution_count": 11,
   "id": "ef8d9df7-1acd-4a94-af9c-badd76bb69c9",
   "metadata": {
    "colab": {
     "base_uri": "https://localhost:8080/"
    },
    "executionInfo": {
     "elapsed": 9486,
     "status": "ok",
     "timestamp": 1746638652594,
     "user": {
      "displayName": "Tri Nguyễn Hồ Duy",
      "userId": "15674853485740644468"
     },
     "user_tz": -420
    },
    "id": "ef8d9df7-1acd-4a94-af9c-badd76bb69c9",
    "outputId": "1bf64d61-4850-4c15-89be-525deebd47c0"
   },
   "outputs": [
    {
     "name": "stdout",
     "output_type": "stream",
     "text": [
      "GraphFrame được tạo thành công:\n",
      "+---+-------------+---+\n",
      "| id|         name|age|\n",
      "+---+-------------+---+\n",
      "|  1|Phạm Thế Châu| 41|\n",
      "|  2|  Hoàng Nhiên| 24|\n",
      "|  3|      Lê Thảo| 46|\n",
      "|  4|  Trần Duy Hà| 56|\n",
      "|  5|    Mai Hương| 35|\n",
      "|  6|       Vũ Hải| 61|\n",
      "|  7|      Đặng Hà| 32|\n",
      "|  8|      Vũ Thảo| 49|\n",
      "|  9|    Trần Khoa| 77|\n",
      "| 10|    Nguyễn An| 27|\n",
      "| 11|    Phạm Phúc| 68|\n",
      "| 12|      Bùi Mai| 78|\n",
      "| 13|Đặng Duy Dũng| 39|\n",
      "| 14|   Vũ Trí Hải| 30|\n",
      "| 15|     Hoàng Hà| 55|\n",
      "| 16|       Vũ Kim| 24|\n",
      "| 17|      Lê Hạnh| 38|\n",
      "| 18|  Nguyễn Châu| 29|\n",
      "| 19|Nguyễn Bảo Vũ| 64|\n",
      "| 20|      Vũ Linh| 65|\n",
      "+---+-------------+---+\n",
      "only showing top 20 rows\n",
      "\n",
      "+----+----+------------+\n",
      "| src| dst|relationship|\n",
      "+----+----+------------+\n",
      "|1770|1228|      friend|\n",
      "|1405| 541|      friend|\n",
      "| 309| 904|      friend|\n",
      "|   1| 751|      follow|\n",
      "| 968| 540|      follow|\n",
      "|1840| 469|      follow|\n",
      "|   4|1022|      follow|\n",
      "| 498|1557|      follow|\n",
      "|1267| 607|      friend|\n",
      "|1277|1295|      follow|\n",
      "|1738| 192|      friend|\n",
      "| 406|1968|      follow|\n",
      "| 308|1433|      friend|\n",
      "|1942|1990|      friend|\n",
      "| 740|1090|      follow|\n",
      "|1954| 756|      friend|\n",
      "| 925|  89|      follow|\n",
      "| 488|  88|      friend|\n",
      "|1088|1773|      follow|\n",
      "|1360|  17|      friend|\n",
      "+----+----+------------+\n",
      "only showing top 20 rows\n",
      "\n"
     ]
    }
   ],
   "source": [
    "print(\"GraphFrame được tạo thành công:\")\n",
    "g.vertices.show()\n",
    "g.edges.show()"
   ]
  },
  {
   "cell_type": "markdown",
   "id": "ca7003d8-1a23-4cc1-a037-753939efa357",
   "metadata": {
    "id": "ca7003d8-1a23-4cc1-a037-753939efa357"
   },
   "source": [
    "# Khám phá GraphFrames cơ bản"
   ]
  },
  {
   "cell_type": "markdown",
   "id": "5fdab97a-9ab5-425f-8db8-16ed22511043",
   "metadata": {
    "id": "5fdab97a-9ab5-425f-8db8-16ed22511043"
   },
   "source": [
    "### Hiển thị số lượng đỉnh và cạnh"
   ]
  },
  {
   "cell_type": "code",
   "execution_count": 12,
   "id": "a11aa96a-c0e9-4278-8463-a063deb05fda",
   "metadata": {
    "colab": {
     "base_uri": "https://localhost:8080/"
    },
    "executionInfo": {
     "elapsed": 6172,
     "status": "ok",
     "timestamp": 1746638658763,
     "user": {
      "displayName": "Tri Nguyễn Hồ Duy",
      "userId": "15674853485740644468"
     },
     "user_tz": -420
    },
    "id": "a11aa96a-c0e9-4278-8463-a063deb05fda",
    "outputId": "5c1b9fbd-576a-4b3b-eff0-8ea8a57a56fa"
   },
   "outputs": [
    {
     "name": "stdout",
     "output_type": "stream",
     "text": [
      "Số lượng đỉnh: 2000\n",
      "Số lượng cạnh: 300000\n"
     ]
    }
   ],
   "source": [
    "print(f\"Số lượng đỉnh: {g.vertices.count()}\")\n",
    "print(f\"Số lượng cạnh: {g.edges.count()}\")"
   ]
  },
  {
   "cell_type": "markdown",
   "id": "2ae17142-85ba-4f09-93ac-6f4f67c80f5f",
   "metadata": {
    "id": "2ae17142-85ba-4f09-93ac-6f4f67c80f5f"
   },
   "source": [
    "### Hiển thị bậc vào (in-degree) của mỗi đỉnh"
   ]
  },
  {
   "cell_type": "code",
   "execution_count": 13,
   "id": "a0615557-7594-479e-8e43-0f8338326cef",
   "metadata": {
    "colab": {
     "base_uri": "https://localhost:8080/"
    },
    "executionInfo": {
     "elapsed": 6734,
     "status": "ok",
     "timestamp": 1746638665496,
     "user": {
      "displayName": "Tri Nguyễn Hồ Duy",
      "userId": "15674853485740644468"
     },
     "user_tz": -420
    },
    "id": "a0615557-7594-479e-8e43-0f8338326cef",
    "outputId": "71af7ce1-289d-49a4-eb9f-6713ef1202be"
   },
   "outputs": [
    {
     "name": "stdout",
     "output_type": "stream",
     "text": [
      "Bậc vào của các đỉnh:\n"
     ]
    },
    {
     "name": "stderr",
     "output_type": "stream",
     "text": [
      "/usr/local/spark/python/pyspark/sql/dataframe.py:148: UserWarning: DataFrame constructor is internal. Do not directly use it.\n",
      "  warnings.warn(\"DataFrame constructor is internal. Do not directly use it.\")\n"
     ]
    },
    {
     "name": "stdout",
     "output_type": "stream",
     "text": [
      "+----+--------+\n",
      "|  id|inDegree|\n",
      "+----+--------+\n",
      "| 471|     159|\n",
      "|1591|     137|\n",
      "| 463|     147|\n",
      "|1829|     145|\n",
      "| 833|     154|\n",
      "|1342|     160|\n",
      "|1238|     176|\n",
      "| 496|     139|\n",
      "|1088|     163|\n",
      "| 148|     148|\n",
      "|1959|     153|\n",
      "|1645|     143|\n",
      "|1580|     140|\n",
      "| 540|     164|\n",
      "|1990|     183|\n",
      "| 392|     129|\n",
      "|1896|     160|\n",
      "| 897|     162|\n",
      "|1084|     127|\n",
      "| 243|     159|\n",
      "+----+--------+\n",
      "only showing top 20 rows\n",
      "\n"
     ]
    }
   ],
   "source": [
    "print(\"Bậc vào của các đỉnh:\")\n",
    "g.inDegrees.show()"
   ]
  },
  {
   "cell_type": "markdown",
   "id": "6e233e98-7ee9-461d-a323-f95be2f548bc",
   "metadata": {
    "id": "6e233e98-7ee9-461d-a323-f95be2f548bc"
   },
   "source": [
    "### Hiển thị bậc ra (out-degree) của mỗi đỉnh"
   ]
  },
  {
   "cell_type": "code",
   "execution_count": 14,
   "id": "9073d9fb-1d58-49cc-b44f-3edab3b8a241",
   "metadata": {
    "colab": {
     "base_uri": "https://localhost:8080/"
    },
    "executionInfo": {
     "elapsed": 5101,
     "status": "ok",
     "timestamp": 1746638670603,
     "user": {
      "displayName": "Tri Nguyễn Hồ Duy",
      "userId": "15674853485740644468"
     },
     "user_tz": -420
    },
    "id": "9073d9fb-1d58-49cc-b44f-3edab3b8a241",
    "outputId": "0c76d6da-d73b-4f9d-91c1-6a477c478265"
   },
   "outputs": [
    {
     "name": "stdout",
     "output_type": "stream",
     "text": [
      "Bậc ra của các đỉnh:\n",
      "+----+---------+\n",
      "|  id|outDegree|\n",
      "+----+---------+\n",
      "|1088|      157|\n",
      "| 833|      140|\n",
      "|1580|      161|\n",
      "|1342|      155|\n",
      "|1645|      148|\n",
      "|1959|      135|\n",
      "| 463|      143|\n",
      "|1829|      160|\n",
      "| 496|      150|\n",
      "| 148|      146|\n",
      "| 471|      138|\n",
      "|1238|      160|\n",
      "|1591|      144|\n",
      "|1721|      135|\n",
      "|1395|      143|\n",
      "| 623|      158|\n",
      "|1507|      159|\n",
      "|1025|      163|\n",
      "| 737|      141|\n",
      "|1522|      173|\n",
      "+----+---------+\n",
      "only showing top 20 rows\n",
      "\n"
     ]
    }
   ],
   "source": [
    "print(\"Bậc ra của các đỉnh:\")\n",
    "g.outDegrees.show()"
   ]
  },
  {
   "cell_type": "markdown",
   "id": "b013b6cc-bf91-4065-9d6d-e83a2a0ef035",
   "metadata": {
    "id": "b013b6cc-bf91-4065-9d6d-e83a2a0ef035"
   },
   "source": [
    "### Hiển thị tổng bậc (degree) của mỗi đỉnh"
   ]
  },
  {
   "cell_type": "code",
   "execution_count": 15,
   "id": "24e2bf43-da31-47f9-8c6f-bd0d862e642c",
   "metadata": {
    "colab": {
     "base_uri": "https://localhost:8080/"
    },
    "executionInfo": {
     "elapsed": 6262,
     "status": "ok",
     "timestamp": 1746638676868,
     "user": {
      "displayName": "Tri Nguyễn Hồ Duy",
      "userId": "15674853485740644468"
     },
     "user_tz": -420
    },
    "id": "24e2bf43-da31-47f9-8c6f-bd0d862e642c",
    "outputId": "fedb8c2b-f8e8-4a08-c846-a2bfa4758ae3"
   },
   "outputs": [
    {
     "name": "stdout",
     "output_type": "stream",
     "text": [
      "Tổng bậc của các đỉnh:\n",
      "+----+------+\n",
      "|  id|degree|\n",
      "+----+------+\n",
      "|1088|   320|\n",
      "| 833|   294|\n",
      "|1580|   301|\n",
      "| 471|   297|\n",
      "|1591|   281|\n",
      "|1342|   315|\n",
      "|1645|   291|\n",
      "| 463|   290|\n",
      "|1829|   305|\n",
      "|1959|   288|\n",
      "|1238|   336|\n",
      "| 496|   289|\n",
      "| 148|   294|\n",
      "| 540|   313|\n",
      "|1990|   310|\n",
      "| 392|   278|\n",
      "|1721|   285|\n",
      "|1896|   303|\n",
      "|1395|   286|\n",
      "| 623|   307|\n",
      "+----+------+\n",
      "only showing top 20 rows\n",
      "\n"
     ]
    }
   ],
   "source": [
    "print(\"Tổng bậc của các đỉnh:\")\n",
    "g.degrees.show()"
   ]
  },
  {
   "cell_type": "markdown",
   "id": "a90eec5b-59dc-45d5-ab64-dff6d273870f",
   "metadata": {
    "id": "a90eec5b-59dc-45d5-ab64-dff6d273870f"
   },
   "source": [
    "### Lọc các đỉnh theo thuộc tính (ví dụ: tuổi > 60)"
   ]
  },
  {
   "cell_type": "code",
   "execution_count": 16,
   "id": "132410c8-352d-41ac-bd21-4bc295efc306",
   "metadata": {
    "colab": {
     "base_uri": "https://localhost:8080/"
    },
    "executionInfo": {
     "elapsed": 445,
     "status": "ok",
     "timestamp": 1746638677312,
     "user": {
      "displayName": "Tri Nguyễn Hồ Duy",
      "userId": "15674853485740644468"
     },
     "user_tz": -420
    },
    "id": "132410c8-352d-41ac-bd21-4bc295efc306",
    "outputId": "13314494-8ce8-41c8-ef1f-4a4bb017a0db"
   },
   "outputs": [
    {
     "name": "stdout",
     "output_type": "stream",
     "text": [
      "Các đỉnh có tuổi lớn hơn 60:\n",
      "+---+----------------+---+\n",
      "| id|            name|age|\n",
      "+---+----------------+---+\n",
      "|  6|          Vũ Hải| 61|\n",
      "|  9|       Trần Khoa| 77|\n",
      "| 11|       Phạm Phúc| 68|\n",
      "| 12|         Bùi Mai| 78|\n",
      "| 19|   Nguyễn Bảo Vũ| 64|\n",
      "| 20|         Vũ Linh| 65|\n",
      "| 22|Dương Bảo Phương| 69|\n",
      "| 24| Dương Duy Nhiên| 68|\n",
      "| 32|      Vũ Mai Lâm| 69|\n",
      "| 38|         Lê Hồng| 77|\n",
      "| 40|     Nguyễn Nhật| 62|\n",
      "| 42|  Trần Phú Thành| 77|\n",
      "| 46|    Mai Phú Minh| 63|\n",
      "| 47|          Lê Lâm| 71|\n",
      "| 49|    Vũ Hữu Thành| 70|\n",
      "| 53|     Phạm Phương| 68|\n",
      "| 55|       Phạm Linh| 71|\n",
      "| 59|        Trần Anh| 67|\n",
      "| 60| Nguyễn Bảo Hạnh| 76|\n",
      "| 65|         Bùi Huy| 71|\n",
      "+---+----------------+---+\n",
      "only showing top 20 rows\n",
      "\n"
     ]
    }
   ],
   "source": [
    "print(\"Các đỉnh có tuổi lớn hơn 60:\")\n",
    "g.vertices.filter(\"age > 60\").show()"
   ]
  },
  {
   "cell_type": "markdown",
   "id": "6c48850f-9303-4fec-b2b8-0e923736f665",
   "metadata": {
    "id": "6c48850f-9303-4fec-b2b8-0e923736f665"
   },
   "source": [
    "### Lọc các cạnh theo thuộc tính (ví dụ: relationship là 'friend')"
   ]
  },
  {
   "cell_type": "code",
   "execution_count": 17,
   "id": "d2aefa0d-0129-4f37-99a4-209f079480ca",
   "metadata": {
    "colab": {
     "base_uri": "https://localhost:8080/"
    },
    "executionInfo": {
     "elapsed": 4134,
     "status": "ok",
     "timestamp": 1746638681447,
     "user": {
      "displayName": "Tri Nguyễn Hồ Duy",
      "userId": "15674853485740644468"
     },
     "user_tz": -420
    },
    "id": "d2aefa0d-0129-4f37-99a4-209f079480ca",
    "outputId": "4d4b616f-1a89-426a-ce50-045758036a3e"
   },
   "outputs": [
    {
     "name": "stdout",
     "output_type": "stream",
     "text": [
      "Các cạnh có mối quan hệ 'friend':\n",
      "+----+----+------------+\n",
      "| src| dst|relationship|\n",
      "+----+----+------------+\n",
      "|1770|1228|      friend|\n",
      "|1405| 541|      friend|\n",
      "| 309| 904|      friend|\n",
      "|1267| 607|      friend|\n",
      "|1738| 192|      friend|\n",
      "| 308|1433|      friend|\n",
      "|1942|1990|      friend|\n",
      "|1954| 756|      friend|\n",
      "| 488|  88|      friend|\n",
      "|1360|  17|      friend|\n",
      "|1852| 479|      friend|\n",
      "| 458|1377|      friend|\n",
      "|  47| 345|      friend|\n",
      "| 114|1567|      friend|\n",
      "|1867|1511|      friend|\n",
      "|1268| 428|      friend|\n",
      "| 700| 910|      friend|\n",
      "|1426|1768|      friend|\n",
      "| 786| 684|      friend|\n",
      "| 197| 289|      friend|\n",
      "+----+----+------------+\n",
      "only showing top 20 rows\n",
      "\n"
     ]
    }
   ],
   "source": [
    "print(\"Các cạnh có mối quan hệ 'friend':\")\n",
    "g.edges.filter(\"relationship = 'friend'\").show()"
   ]
  },
  {
   "cell_type": "markdown",
   "id": "073caaa7-c39c-439d-b0e2-1481b8f1aa0b",
   "metadata": {
    "id": "073caaa7-c39c-439d-b0e2-1481b8f1aa0b"
   },
   "source": [
    "# Truy vấn đồ thị (Graph Queries) - Tìm kiếm mẫu (Motif Finding)"
   ]
  },
  {
   "cell_type": "markdown",
   "id": "dea855b1-857e-4b0e-b291-d43e21dc1e12",
   "metadata": {
    "id": "dea855b1-857e-4b0e-b291-d43e21dc1e12"
   },
   "source": [
    "### __Ví dụ 1:__ Tìm các cặp (a,b) sao cho a là bạn của b VÀ b là bạn của a\n",
    "##### *__Lưu ý:__ Cần đảm bảo cột 'relationship' tồn tại và có giá trị 'friend'*\n",
    "##### *Nếu không có cột relationship, bỏ điều kiện e.relationship = ...*"
   ]
  },
  {
   "cell_type": "code",
   "execution_count": 18,
   "id": "f072df99-c028-466b-8cab-d40cebed9a7c",
   "metadata": {
    "executionInfo": {
     "elapsed": 479,
     "status": "ok",
     "timestamp": 1746638681924,
     "user": {
      "displayName": "Tri Nguyễn Hồ Duy",
      "userId": "15674853485740644468"
     },
     "user_tz": -420
    },
    "id": "f072df99-c028-466b-8cab-d40cebed9a7c"
   },
   "outputs": [],
   "source": [
    "motifs = g.find(\"(a)-[e]->(b); (b)-[e2]->(a)\") \\\n",
    "          .filter(\"e.relationship = 'friend' and e2.relationship = 'friend'\")"
   ]
  },
  {
   "cell_type": "code",
   "execution_count": 19,
   "id": "c600d4e0-59d2-4419-be4e-4713c26de834",
   "metadata": {
    "colab": {
     "base_uri": "https://localhost:8080/"
    },
    "executionInfo": {
     "elapsed": 8740,
     "status": "ok",
     "timestamp": 1746638690667,
     "user": {
      "displayName": "Tri Nguyễn Hồ Duy",
      "userId": "15674853485740644468"
     },
     "user_tz": -420
    },
    "id": "c600d4e0-59d2-4419-be4e-4713c26de834",
    "outputId": "fce193cb-2b7d-4a34-be25-2e48a52c1d76"
   },
   "outputs": [
    {
     "name": "stdout",
     "output_type": "stream",
     "text": [
      "Các cặp bạn bè tương hỗ (A->B và B->A):\n",
      "+--------------+----------------+\n",
      "|          name|            name|\n",
      "+--------------+----------------+\n",
      "|    Nguyễn Lan|        Mai Linh|\n",
      "|   Phạm Thế An|        Phạm Kim|\n",
      "|        Mai Tú|       Mai Trung|\n",
      "|     Phạm Ngọc|      Nguyễn Nam|\n",
      "|    Mai Văn An|       Đặng Dũng|\n",
      "|   Nguyễn Châu|  Đặng Hải Trọng|\n",
      "|Nguyễn Duy Lâm|      Phạm Thành|\n",
      "|        Lê Vân|      Trần Thành|\n",
      "|       Trần Hà|          Mai An|\n",
      "|      Đặng Kim|       Lê Mai An|\n",
      "|     Mai Quang|  Đặng Mai Hoàng|\n",
      "|       Trần Hà|         Trần Vũ|\n",
      "| Mai Xuân Hạnh|     Hoàng Thành|\n",
      "|       Đặng Tú|    Vũ Đức Trung|\n",
      "|   Lê Trí Tùng|Nguyễn Hữu Thành|\n",
      "|      Đặng Hải|   Mai Bảo Nhiên|\n",
      "| Đặng Mai Châu|         Đặng Tú|\n",
      "|     Mai Nhiên| Nguyễn Phú Hưng|\n",
      "|        Lê Kim|          Vũ Kim|\n",
      "|   Nguyễn Thảo|       Dương Mai|\n",
      "+--------------+----------------+\n",
      "only showing top 20 rows\n",
      "\n"
     ]
    }
   ],
   "source": [
    "print(\"Các cặp bạn bè tương hỗ (A->B và B->A):\")\n",
    "# Chọn lọc để tránh trùng lặp (ví dụ: chỉ hiển thị khi id a < id b)\n",
    "mutual_friends = motifs.filter(\"a.id < b.id\").dropDuplicates(['a', 'b'])\n",
    "mutual_friends.select(\"a.name\", \"b.name\").show()"
   ]
  },
  {
   "cell_type": "markdown",
   "id": "790cef4e-d441-48fc-a98a-edccaf089b0d",
   "metadata": {
    "id": "790cef4e-d441-48fc-a98a-edccaf089b0d"
   },
   "source": [
    "### __Ví dụ 2:__ Tìm \"bạn của bạn\" (Friends of friends - FoF)"
   ]
  },
  {
   "cell_type": "markdown",
   "id": "cb142a44-d186-45c0-b526-cdb08783c5c2",
   "metadata": {
    "id": "cb142a44-d186-45c0-b526-cdb08783c5c2"
   },
   "source": [
    "##### *Tìm a -> b -> c, trong đó a không phải là c và a chưa phải là bạn trực tiếp của c*"
   ]
  },
  {
   "cell_type": "code",
   "execution_count": 20,
   "id": "4d544de8-cf99-4052-86e9-168102261edb",
   "metadata": {
    "id": "4d544de8-cf99-4052-86e9-168102261edb"
   },
   "outputs": [
    {
     "name": "stdout",
     "output_type": "stream",
     "text": [
      "+----+-------------+----+--------------+\n",
      "|a_id|       a_name|c_id|        c_name|\n",
      "+----+-------------+----+--------------+\n",
      "|   1|Phạm Thế Châu|  25|     Nguyễn An|\n",
      "|   1|Phạm Thế Châu|  37|     Phạm Tùng|\n",
      "|   1|Phạm Thế Châu|  46|  Mai Phú Minh|\n",
      "|   1|Phạm Thế Châu|  59|      Trần Anh|\n",
      "|   1|Phạm Thế Châu|  95|Nguyễn Thế Anh|\n",
      "|   1|Phạm Thế Châu|  96| Đặng Quang An|\n",
      "|   1|Phạm Thế Châu| 102|Phạm Xuân Khoa|\n",
      "|   1|Phạm Thế Châu| 114|       Lê Hạnh|\n",
      "|   1|Phạm Thế Châu| 147|   Đặng Tấn Hà|\n",
      "|   1|Phạm Thế Châu| 152|Đặng Đức Nhiên|\n",
      "|   1|Phạm Thế Châu| 204|    Hoàng Phúc|\n",
      "|   1|Phạm Thế Châu| 226|     Lê Mai An|\n",
      "|   1|Phạm Thế Châu| 239|  Hoàng Thế An|\n",
      "|   1|Phạm Thế Châu| 255|   Vũ Đức Hưng|\n",
      "|   1|Phạm Thế Châu| 284|   Vũ Hải Hưng|\n",
      "|   1|Phạm Thế Châu| 285|     Bùi Dương|\n",
      "|   1|Phạm Thế Châu| 318| Vũ Hoàng Dũng|\n",
      "|   1|Phạm Thế Châu| 329|   Trần Phương|\n",
      "|   1|Phạm Thế Châu| 353|    Nguyễn Ánh|\n",
      "|   1|Phạm Thế Châu| 372|     Trần Hưng|\n",
      "+----+-------------+----+--------------+\n",
      "only showing top 20 rows\n",
      "\n"
     ]
    },
    {
     "data": {
      "text/plain": [
       "3757084"
      ]
     },
     "execution_count": 20,
     "metadata": {},
     "output_type": "execute_result"
    }
   ],
   "source": [
    "fof = g.find(\"(a)-[e1]->(b); (b)-[e2]->(c)\") \\\n",
    "          .filter(\"e1.relationship = 'friend' and e2.relationship = 'friend' and a.id != c.id\") \\\n",
    "          .select(col('a.id').alias('a_id'), col('a.name').alias('a_name'), col('c.id').alias('c_id'), col('c.name').alias('c_name')) \\\n",
    "          .dropDuplicates(['a_id', 'c_id'])\n",
    "fof.show()\n",
    "fof.count()"
   ]
  },
  {
   "cell_type": "markdown",
   "id": "dc152a41-58d9-49fb-afc8-5c45e3d499ef",
   "metadata": {
    "id": "dc152a41-58d9-49fb-afc8-5c45e3d499ef"
   },
   "source": [
    "##### *Tìm những người đã là bạn trực tiếp*"
   ]
  },
  {
   "cell_type": "code",
   "execution_count": 21,
   "id": "92041d68-23df-4633-8789-c4fba235963a",
   "metadata": {
    "id": "92041d68-23df-4633-8789-c4fba235963a"
   },
   "outputs": [
    {
     "name": "stdout",
     "output_type": "stream",
     "text": [
      "+----+---------------+----+----------------+\n",
      "|a_id|         a_name|c_id|          c_name|\n",
      "+----+---------------+----+----------------+\n",
      "|1770|Nguyễn Duy Khoa|1228|   Mai Trí Thành|\n",
      "|1405|     Nguyễn Bảo| 541|          Lê Anh|\n",
      "| 309|        Đặng Tú| 904|Nguyễn Xuân Khoa|\n",
      "|1267| Bùi Thế Phương| 607|        Vũ Trọng|\n",
      "|1738|Đặng Hoàng Phúc| 192|  Trần Thế Trọng|\n",
      "| 308|       Lê Thành|1433|     Vũ Đức Khoa|\n",
      "|1942|     Dương Minh|1990|      Nguyễn Huy|\n",
      "|1954| Dương Văn Khoa| 756|     Nguyễn Xuân|\n",
      "| 488|Hoàng Văn Thành|  88| Nguyễn Hữu Dũng|\n",
      "|1360|     Bùi Phương|  17|         Lê Hạnh|\n",
      "|1852| Dương Bảo Phúc| 479| Trần Đức Phương|\n",
      "| 458|         Bùi Hà|1377|         Lê Thảo|\n",
      "|  47|         Lê Lâm| 345|           Vũ Hà|\n",
      "| 114|        Lê Hạnh|1567|    Vũ Tấn Quang|\n",
      "|1867|   Đặng Phú Hải|1511|          Vũ Bảo|\n",
      "|1268|     Trần Thành| 428|   Hoàng Thế Nam|\n",
      "| 700|        Trần An| 910|    Mai Duy Minh|\n",
      "|1426|Hoàng Văn Nhiên|1768|    Mai Bảo Hạnh|\n",
      "| 786|      Bùi Thành| 684|   Dương Văn Hải|\n",
      "| 197|     Trần Thành| 289|        Phạm Mai|\n",
      "+----+---------------+----+----------------+\n",
      "only showing top 20 rows\n",
      "\n"
     ]
    },
    {
     "data": {
      "text/plain": [
       "149848"
      ]
     },
     "execution_count": 21,
     "metadata": {},
     "output_type": "execute_result"
    }
   ],
   "source": [
    "direct_friends = g.find(\"(a)-[e]->(c)\").filter(\"e.relationship = 'friend'\") \\\n",
    "                      .select(col('a.id').alias('a_id'), col('a.name').alias('a_name'), col('c.id').alias('c_id'), col('c.name').alias('c_name'))\n",
    "direct_friends.show()\n",
    "direct_friends.count()"
   ]
  },
  {
   "cell_type": "markdown",
   "id": "747191c1-5963-4943-87ca-4bb9fbfe5b31",
   "metadata": {
    "id": "747191c1-5963-4943-87ca-4bb9fbfe5b31"
   },
   "source": [
    "##### *Loại bỏ những người đã là bạn trực tiếp khỏi danh sách FoF*"
   ]
  },
  {
   "cell_type": "code",
   "execution_count": 22,
   "id": "df37fc76-c51e-48e7-a0f0-dfcf7e931783",
   "metadata": {
    "id": "df37fc76-c51e-48e7-a0f0-dfcf7e931783"
   },
   "outputs": [],
   "source": [
    "fof_results = fof.join(direct_friends, (fof.a_id == direct_friends.a_id) & (fof.c_id == direct_friends.c_id), \"left_anti\")\n",
    "# left_anti là lấy phần trong tập bên trái không có trong tập bên phải\n",
    "# fof_results.persist(StorageLevel.MEMORY_AND_DISK)"
   ]
  },
  {
   "cell_type": "markdown",
   "id": "791a831b-d4fd-4b2d-8d2c-2a0558486d01",
   "metadata": {
    "id": "791a831b-d4fd-4b2d-8d2c-2a0558486d01"
   },
   "source": [
    "##### *Hiển thị kết quả*"
   ]
  },
  {
   "cell_type": "code",
   "execution_count": 23,
   "id": "6b60a180-a099-4431-b59d-32aa36d5291b",
   "metadata": {
    "id": "6b60a180-a099-4431-b59d-32aa36d5291b"
   },
   "outputs": [
    {
     "name": "stdout",
     "output_type": "stream",
     "text": [
      "Bạn của bạn (chưa phải bạn trực tiếp):\n",
      "+-------------+--------------+\n",
      "|       a_name|        c_name|\n",
      "+-------------+--------------+\n",
      "|Phạm Thế Châu|     Nguyễn An|\n",
      "|Phạm Thế Châu|     Phạm Tùng|\n",
      "|Phạm Thế Châu|  Mai Phú Minh|\n",
      "|Phạm Thế Châu|      Trần Anh|\n",
      "|Phạm Thế Châu|Nguyễn Thế Anh|\n",
      "|Phạm Thế Châu| Đặng Quang An|\n",
      "|Phạm Thế Châu|Phạm Xuân Khoa|\n",
      "|Phạm Thế Châu|       Lê Hạnh|\n",
      "|Phạm Thế Châu|   Đặng Tấn Hà|\n",
      "|Phạm Thế Châu|Đặng Đức Nhiên|\n",
      "|Phạm Thế Châu|    Hoàng Phúc|\n",
      "|Phạm Thế Châu|     Lê Mai An|\n",
      "|Phạm Thế Châu|  Hoàng Thế An|\n",
      "|Phạm Thế Châu|   Vũ Đức Hưng|\n",
      "|Phạm Thế Châu|   Vũ Hải Hưng|\n",
      "|Phạm Thế Châu|     Bùi Dương|\n",
      "|Phạm Thế Châu| Vũ Hoàng Dũng|\n",
      "|Phạm Thế Châu|   Trần Phương|\n",
      "|Phạm Thế Châu|    Nguyễn Ánh|\n",
      "|Phạm Thế Châu|     Trần Hưng|\n",
      "+-------------+--------------+\n",
      "only showing top 20 rows\n",
      "\n"
     ]
    },
    {
     "data": {
      "text/plain": [
       "3616227"
      ]
     },
     "execution_count": 23,
     "metadata": {},
     "output_type": "execute_result"
    }
   ],
   "source": [
    "print(\"Bạn của bạn (chưa phải bạn trực tiếp):\")\n",
    "fof_results.select('a_name', 'c_name').show()\n",
    "fof_results.count()"
   ]
  },
  {
   "cell_type": "markdown",
   "id": "6c994465-fb6e-42e1-9196-1f3477ec28bb",
   "metadata": {
    "id": "49d0f255-c79c-404f-9342-e3f56327e590"
   },
   "source": [
    "# Chạy các thuật toán đồ thị (Graph Algorithms)"
   ]
  },
  {
   "cell_type": "markdown",
   "id": "c0229020-270f-4073-ab26-dc7402879a4f",
   "metadata": {},
   "source": [
    "## 1. PageRank - Đánh giá tầm quan trọng của các đỉnh"
   ]
  },
  {
   "cell_type": "code",
   "execution_count": 24,
   "id": "ec264b96-fa7d-4d34-bf58-49f1c9092d2f",
   "metadata": {},
   "outputs": [
    {
     "name": "stdout",
     "output_type": "stream",
     "text": [
      "Chạy PageRank:\n"
     ]
    }
   ],
   "source": [
    "print(\"Chạy PageRank:\")\n",
    "# resetProbability là xác suất nhảy ngẫu nhiên (thường là 0.15)\n",
    "# maxIter là số vòng lặp tối đa\n",
    "results_pr = g.pageRank(resetProbability=0.15, maxIter=10)"
   ]
  },
  {
   "cell_type": "code",
   "execution_count": 25,
   "id": "dc12d212-823e-421a-9009-f9f54fb34357",
   "metadata": {},
   "outputs": [
    {
     "name": "stdout",
     "output_type": "stream",
     "text": [
      "+----+------------+------------------+\n",
      "|  id|        name|          pagerank|\n",
      "+----+------------+------------------+\n",
      "| 918|   Vũ Phương|1.2482510238869442|\n",
      "| 270|      Vũ Bảo|1.2077985227994856|\n",
      "| 614| Dương Hương|1.2015109600777394|\n",
      "| 734|Hoàng Phú Hà|1.2012076362250472|\n",
      "|1294|   Lê Văn Hà|1.1931187326217156|\n",
      "| 167| Dương Thành| 1.191404408238185|\n",
      "|1990|  Nguyễn Huy|1.1901550940384686|\n",
      "| 294| Phạm Phương|1.1883077977798249|\n",
      "|1689| Phạm Văn An|1.1816252532851101|\n",
      "|1938| Mai Văn Bảo|1.1795471618219655|\n",
      "|1994| Nguyễn Hồng|1.1760486319014916|\n",
      "| 249|  Dương Linh|1.1756851366285395|\n",
      "|1621|   Phạm Tùng|1.1754447668843968|\n",
      "|1415|    Lê Hương|1.1753980440344365|\n",
      "|1017|Hoàng Đức Hà|1.1718337718503957|\n",
      "| 723|  Mai Văn Vũ|1.1717918967435907|\n",
      "| 374|     Mai Kim|1.1698267563378117|\n",
      "|1784|    Phạm Lâm|1.1672699168568725|\n",
      "|1956|   Phạm Khoa| 1.165040173849614|\n",
      "| 187|Vũ Tấn Thành|1.1635621416020636|\n",
      "+----+------------+------------------+\n",
      "only showing top 20 rows\n",
      "\n",
      "+---+---+--------------------+\n",
      "|src|dst|              weight|\n",
      "+---+---+--------------------+\n",
      "|  1| 22|0.005681818181818182|\n",
      "|  1| 31|0.005681818181818182|\n",
      "|  1| 38|0.005681818181818182|\n",
      "|  1| 41|0.005681818181818182|\n",
      "|  1| 66|0.005681818181818182|\n",
      "|  1| 86|0.005681818181818182|\n",
      "|  1| 89|0.005681818181818182|\n",
      "|  1| 99|0.005681818181818182|\n",
      "|  1|136|0.005681818181818182|\n",
      "|  1|140|0.005681818181818182|\n",
      "|  1|161|0.005681818181818182|\n",
      "|  1|174|0.005681818181818182|\n",
      "|  1|234|0.005681818181818182|\n",
      "|  1|238|0.005681818181818182|\n",
      "|  1|259|0.005681818181818182|\n",
      "|  1|286|0.005681818181818182|\n",
      "|  1|315|0.005681818181818182|\n",
      "|  1|323|0.005681818181818182|\n",
      "|  1|356|0.005681818181818182|\n",
      "|  1|397|0.005681818181818182|\n",
      "+---+---+--------------------+\n",
      "only showing top 20 rows\n",
      "\n"
     ]
    }
   ],
   "source": [
    "# Hiển thị PageRank của các đỉnh\n",
    "results_pr.vertices.select(\"id\", \"name\", \"pagerank\").orderBy(\"pagerank\", ascending=False).show()\n",
    "# Hiển thị trọng số PageRank trên các cạnh (nếu cần)\n",
    "results_pr.edges.select(\"src\", \"dst\", \"weight\").show()"
   ]
  },
  {
   "cell_type": "markdown",
   "id": "d6c18609-4039-4a67-ad41-9a7df74f0142",
   "metadata": {},
   "source": [
    "## 2. Connected Components - Tìm các nhóm đỉnh liên thông với nhau"
   ]
  },
  {
   "cell_type": "code",
   "execution_count": 27,
   "id": "0e2096f9-5cf8-4160-8a85-754904d55830",
   "metadata": {},
   "outputs": [
    {
     "name": "stdout",
     "output_type": "stream",
     "text": [
      "mkdir: cannot create directory ‘checkpoints’: File exists\n"
     ]
    }
   ],
   "source": [
    "# Tạo thư mục để lưu các checkpoints khi chạy thuật toán\n",
    "!mkdir checkpoints\n",
    "# Ghi nhận thông tin thư mục checkpoints vào ngữ cảnh Spark\n",
    "spark.sparkContext.setCheckpointDir(\"checkpoints\")"
   ]
  },
  {
   "cell_type": "code",
   "execution_count": 28,
   "id": "32f66d2a-dc16-4046-bb6f-7c606bbe64a7",
   "metadata": {},
   "outputs": [
    {
     "name": "stdout",
     "output_type": "stream",
     "text": [
      "Chạy Connected Components (tìm thành phần liên thông):\n",
      "+---+-------------+---------+\n",
      "| id|         name|component|\n",
      "+---+-------------+---------+\n",
      "|  1|Phạm Thế Châu|        1|\n",
      "|  2|  Hoàng Nhiên|        1|\n",
      "|  3|      Lê Thảo|        1|\n",
      "|  4|  Trần Duy Hà|        1|\n",
      "|  5|    Mai Hương|        1|\n",
      "|  6|       Vũ Hải|        1|\n",
      "|  7|      Đặng Hà|        1|\n",
      "|  8|      Vũ Thảo|        1|\n",
      "|  9|    Trần Khoa|        1|\n",
      "| 10|    Nguyễn An|        1|\n",
      "| 11|    Phạm Phúc|        1|\n",
      "| 12|      Bùi Mai|        1|\n",
      "| 13|Đặng Duy Dũng|        1|\n",
      "| 14|   Vũ Trí Hải|        1|\n",
      "| 15|     Hoàng Hà|        1|\n",
      "| 16|       Vũ Kim|        1|\n",
      "| 17|      Lê Hạnh|        1|\n",
      "| 18|  Nguyễn Châu|        1|\n",
      "| 19|Nguyễn Bảo Vũ|        1|\n",
      "| 20|      Vũ Linh|        1|\n",
      "+---+-------------+---------+\n",
      "only showing top 20 rows\n",
      "\n"
     ]
    }
   ],
   "source": [
    "print(\"Chạy Connected Components (tìm thành phần liên thông):\")\n",
    "# Thuật toán này gán một ID thành phần (component) cho mỗi đỉnh\n",
    "results_cc = g.connectedComponents()\n",
    "results_cc.select(\"id\", \"name\", \"component\").orderBy(\"component\").show()"
   ]
  },
  {
   "cell_type": "code",
   "execution_count": 29,
   "id": "1edd7ce7-6c11-4603-9721-a2db654faff9",
   "metadata": {},
   "outputs": [
    {
     "name": "stdout",
     "output_type": "stream",
     "text": [
      "rmdir: failed to remove '/s': No such file or directory\n",
      "rmdir: failed to remove '/q': No such file or directory\n",
      "rmdir: failed to remove 'checkpoints': Directory not empty\n"
     ]
    }
   ],
   "source": [
    "# On Windows:\n",
    "!rmdir /s /q checkpoints"
   ]
  },
  {
   "cell_type": "markdown",
   "id": "69e608b8-cfdc-4cdd-a3f4-bac3e9092713",
   "metadata": {},
   "source": [
    "## 3. Breadth-First Search (BFS) - Tìm đường đi ngắn nhất"
   ]
  },
  {
   "cell_type": "code",
   "execution_count": 30,
   "id": "696e45ef-1fd7-4cd6-a35f-791cbfe5dc59",
   "metadata": {},
   "outputs": [
    {
     "name": "stdout",
     "output_type": "stream",
     "text": [
      "Chạy BFS để tìm đường đi từ 'Vũ Bảo' (id=270) đến những người có 'age > 79', với mối liên hệ là follow\n"
     ]
    }
   ],
   "source": [
    "print(\"Chạy BFS để tìm đường đi từ 'Vũ Bảo' (id=270) đến những người có 'age > 79', với mối liên hệ là follow\")\n",
    "# Tìm đường đi từ đỉnh có id=270 đến các đỉnh thỏa mãn điều kiện age > 79, với mối liên hệ là follow\n",
    "paths = g.bfs(fromExpr=\"id = 270\", toExpr=\"age > 79\", edgeFilter=\"relationship = 'follow'\", maxPathLength=5) # maxPathLength giới hạn độ dài đường đi"
   ]
  },
  {
   "cell_type": "code",
   "execution_count": 31,
   "id": "50c46857-4549-4b66-a601-7a395ac855ab",
   "metadata": {},
   "outputs": [
    {
     "name": "stdout",
     "output_type": "stream",
     "text": [
      "Các đường đi tìm được:\n",
      "+-----------------+-------------------+--------------------+--------------------+--------------------+\n",
      "|             from|                 e0|                  v1|                  e1|                  to|\n",
      "+-----------------+-------------------+--------------------+--------------------+--------------------+\n",
      "|{270, Vũ Bảo, 63}|{270, 1339, follow}|{1339, Hoàng Khoa...| {1339, 489, follow}|{489, Dương Quang...|\n",
      "|{270, Vũ Bảo, 63}|{270, 1339, follow}|{1339, Hoàng Khoa...| {1339, 870, follow}|{870, Dương Mai, 80}|\n",
      "|{270, Vũ Bảo, 63}|{270, 1339, follow}|{1339, Hoàng Khoa...|{1339, 1902, follow}|  {1902, Bùi An, 80}|\n",
      "|{270, Vũ Bảo, 63}|{270, 1339, follow}|{1339, Hoàng Khoa...|{1339, 1609, follow}|{1609, Vũ Đức Bảo...|\n",
      "|{270, Vũ Bảo, 63}|{270, 1339, follow}|{1339, Hoàng Khoa...|{1339, 1297, follow}| {1297, Lê Hạnh, 80}|\n",
      "|{270, Vũ Bảo, 63}|  {270, 65, follow}|   {65, Bùi Huy, 71}|   {65, 109, follow}| {109, Mai Nhật, 80}|\n",
      "|{270, Vũ Bảo, 63}| {270, 588, follow}| {588, Bùi Tùng, 25}|  {588, 603, follow}|  {603, Vũ Hạnh, 80}|\n",
      "|{270, Vũ Bảo, 63}| {270, 588, follow}| {588, Bùi Tùng, 25}| {588, 1367, follow}| {1367, Lê Linh, 80}|\n",
      "|{270, Vũ Bảo, 63}| {270, 588, follow}| {588, Bùi Tùng, 25}|  {588, 712, follow}|{712, Lê Đức Hưng...|\n",
      "|{270, Vũ Bảo, 63}| {270, 588, follow}| {588, Bùi Tùng, 25}|  {588, 767, follow}|{767, Nguyễn Trun...|\n",
      "|{270, Vũ Bảo, 63}| {270, 588, follow}| {588, Bùi Tùng, 25}|  {588, 870, follow}|{870, Dương Mai, 80}|\n",
      "|{270, Vũ Bảo, 63}|{270, 1675, follow}| {1675, Mai Lâm, 74}|{1675, 1025, follow}|{1025, Nguyễn Hoà...|\n",
      "|{270, Vũ Bảo, 63}|{270, 1198, follow}|{1198, Phạm Hạnh,...| {1198, 712, follow}|{712, Lê Đức Hưng...|\n",
      "|{270, Vũ Bảo, 63}|{270, 1752, follow}|{1752, Phạm Trung...| {1752, 870, follow}|{870, Dương Mai, 80}|\n",
      "|{270, Vũ Bảo, 63}|{270, 1752, follow}|{1752, Phạm Trung...|{1752, 1609, follow}|{1609, Vũ Đức Bảo...|\n",
      "|{270, Vũ Bảo, 63}|{270, 1752, follow}|{1752, Phạm Trung...|{1752, 1428, follow}|{1428, Trần Phươn...|\n",
      "|{270, Vũ Bảo, 63}|{270, 1752, follow}|{1752, Phạm Trung...|{1752, 1354, follow}|{1354, Phạm Anh, 80}|\n",
      "|{270, Vũ Bảo, 63}|{270, 1772, follow}|{1772, Vũ Hương, 63}| {1772, 127, follow}|{127, Lê Xuân Hải...|\n",
      "|{270, Vũ Bảo, 63}|{270, 1772, follow}|{1772, Vũ Hương, 63}| {1772, 870, follow}|{870, Dương Mai, 80}|\n",
      "|{270, Vũ Bảo, 63}|{270, 1772, follow}|{1772, Vũ Hương, 63}|{1772, 1380, follow}|{1380, Phạm Thành...|\n",
      "+-----------------+-------------------+--------------------+--------------------+--------------------+\n",
      "only showing top 20 rows\n",
      "\n"
     ]
    }
   ],
   "source": [
    "print(\"Các đường đi tìm được:\")\n",
    "paths.show()\n",
    "# Lưu ý: Kết quả paths chứa các cột e0, v1, e1, v2,... biểu diễn đường đi."
   ]
  },
  {
   "cell_type": "code",
   "execution_count": 32,
   "id": "31eab4ab-e464-4a02-a643-09342a88ae16",
   "metadata": {},
   "outputs": [
    {
     "data": {
      "text/plain": [
       "125"
      ]
     },
     "execution_count": 32,
     "metadata": {},
     "output_type": "execute_result"
    }
   ],
   "source": [
    "paths.count()"
   ]
  },
  {
   "cell_type": "markdown",
   "id": "41239be1-9459-49c4-b691-6274e1eee13b",
   "metadata": {},
   "source": [
    "## 4. Shortest Paths - Tìm đường đi ngắn nhất (yêu cầu chỉ định các đỉnh đích cụ thể)"
   ]
  },
  {
   "cell_type": "code",
   "execution_count": 33,
   "id": "93e1e69e-6628-4d43-889b-f99ab8f4d4ce",
   "metadata": {},
   "outputs": [
    {
     "name": "stdout",
     "output_type": "stream",
     "text": [
      "Tìm đường đi ngắn nhất (là bạn bè) từ tất cả các đỉnh đến 'Bùi Ánh' (id = 1009):\n",
      "+----+---------------+-----------+\n",
      "|  id|           name|  distances|\n",
      "+----+---------------+-----------+\n",
      "|1084|        Mai Bảo|{1009 -> 2}|\n",
      "|1410|    Dương Thành|{1009 -> 2}|\n",
      "|1687|    Đặng Thế An|{1009 -> 2}|\n",
      "| 667|    Vũ Hải Khoa|{1009 -> 1}|\n",
      "|1053| Đặng Hoàng Lâm|{1009 -> 2}|\n",
      "|1894| Vũ Hoàng Quang|{1009 -> 2}|\n",
      "| 466|  Dương Xuân An|{1009 -> 2}|\n",
      "|1040|      Đặng Thảo|{1009 -> 1}|\n",
      "| 912|      Phạm Hồng|{1009 -> 2}|\n",
      "|1325|     Trần Duyên|{1009 -> 2}|\n",
      "| 140|         Vũ Hải|{1009 -> 2}|\n",
      "| 204|     Hoàng Phúc|{1009 -> 1}|\n",
      "| 956|Nguyễn Trí Khoa|{1009 -> 2}|\n",
      "| 291|  Phạm Mai Tùng|{1009 -> 2}|\n",
      "|   1|  Phạm Thế Châu|{1009 -> 2}|\n",
      "| 931|   Phạm Văn Lâm|{1009 -> 2}|\n",
      "|1466|   Nguyễn Thành|{1009 -> 2}|\n",
      "| 755|         Lê Chi|{1009 -> 2}|\n",
      "|1813|  Phạm Đức Khoa|{1009 -> 2}|\n",
      "|1393|     Lê Xuân Vũ|{1009 -> 1}|\n",
      "+----+---------------+-----------+\n",
      "only showing top 20 rows\n",
      "\n"
     ]
    }
   ],
   "source": [
    "print(\"Tìm đường đi ngắn nhất (là bạn bè) từ tất cả các đỉnh đến 'Bùi Ánh' (id = 1009):\")\n",
    "# landmarks là danh sách các đỉnh đích\n",
    "results_sp = g.filterEdges(\"relationship = 'friend'\").shortestPaths(landmarks=[\"1009\"])\n",
    "results_sp.select(\"id\", \"name\", \"distances\").show()\n",
    "# distances là một Map chứa khoảng cách từ đỉnh hiện tại đến các landmarks"
   ]
  },
  {
   "cell_type": "code",
   "execution_count": 34,
   "id": "4803719f-0ec5-444c-a0db-6500abf44571",
   "metadata": {},
   "outputs": [
    {
     "name": "stdout",
     "output_type": "stream",
     "text": [
      "Lọc lại danh sách các đỉnh có khoảng cách đường đi ngắn nhất đến đỉnh 1009, lớn hơn 2:\n",
      "+----+--------------+---+-----------+\n",
      "|  id|          name|age|  distances|\n",
      "+----+--------------+---+-----------+\n",
      "|1596|    Trần Trọng| 51|{1009 -> 3}|\n",
      "|1792|Nguyễn Hải Bảo| 63|{1009 -> 3}|\n",
      "| 702|   Phạm Thế Tú| 25|{1009 -> 3}|\n",
      "|1290|     Dương Yến| 42|{1009 -> 3}|\n",
      "|1004|      Phạm Ánh| 44|{1009 -> 3}|\n",
      "| 171|      Trần Kim| 35|{1009 -> 3}|\n",
      "|1070|    Lê Hải Bảo| 33|{1009 -> 3}|\n",
      "| 165|  Mai Bảo Hưng| 53|{1009 -> 3}|\n",
      "|1011|   Nguyễn Dũng| 63|{1009 -> 3}|\n",
      "|1660|    Bùi Bảo Hà| 64|{1009 -> 3}|\n",
      "| 743|   Hoàng Quang| 40|{1009 -> 3}|\n",
      "|1899|      Đặng Anh| 49|{1009 -> 3}|\n",
      "|   6|        Vũ Hải| 61|{1009 -> 3}|\n",
      "| 475|      Bùi Dũng| 68|{1009 -> 3}|\n",
      "| 426|        Lê Vân| 28|{1009 -> 3}|\n",
      "|1616|   Vũ Hoàng Tú| 63|{1009 -> 3}|\n",
      "|  17|       Lê Hạnh| 38|{1009 -> 3}|\n",
      "| 861|       Trần Vũ| 29|{1009 -> 3}|\n",
      "| 775|   Hoàng Hương| 38|{1009 -> 3}|\n",
      "|1477|     Dương Ánh| 57|{1009 -> 3}|\n",
      "+----+--------------+---+-----------+\n",
      "only showing top 20 rows\n",
      "\n"
     ]
    }
   ],
   "source": [
    "print(\"Lọc lại danh sách các đỉnh có khoảng cách đường đi ngắn nhất đến đỉnh 1009, lớn hơn 2:\")\n",
    "results_sp.filter(results_sp.distances['1009'] > 2).show()"
   ]
  }
 ],
 "metadata": {
  "colab": {
   "provenance": []
  },
  "kernelspec": {
   "display_name": "Python 3 (ipykernel)",
   "language": "python",
   "name": "python3"
  },
  "language_info": {
   "codemirror_mode": {
    "name": "ipython",
    "version": 3
   },
   "file_extension": ".py",
   "mimetype": "text/x-python",
   "name": "python",
   "nbconvert_exporter": "python",
   "pygments_lexer": "ipython3",
   "version": "3.10.11"
  }
 },
 "nbformat": 4,
 "nbformat_minor": 5
}
