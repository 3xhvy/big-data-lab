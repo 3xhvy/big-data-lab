{
 "cells": [
  {
   "cell_type": "code",
   "execution_count": 1,
   "id": "e12a2e8d",
   "metadata": {},
   "outputs": [
    {
     "name": "stderr",
     "output_type": "stream",
     "text": [
      "/usr/local/spark/python/pyspark/sql/dataframe.py:169: UserWarning: DataFrame.sql_ctx is an internal property, and will be removed in future releases. Use DataFrame.sparkSession instead.\n",
      "  warnings.warn(\n"
     ]
    },
    {
     "name": "stdout",
     "output_type": "stream",
     "text": [
      "+---+-----+\n",
      "| id| name|\n",
      "+---+-----+\n",
      "|  1|Alice|\n",
      "|  2|  Bob|\n",
      "+---+-----+\n",
      "\n",
      "+---+---+------------+\n",
      "|src|dst|relationship|\n",
      "+---+---+------------+\n",
      "|  1|  2|      friend|\n",
      "+---+---+------------+\n",
      "\n"
     ]
    }
   ],
   "source": [
    "from pyspark.sql import SparkSession\n",
    "from graphframes import GraphFrame\n",
    "\n",
    "spark = SparkSession.builder \\\n",
    "    .appName(\"GraphAnalysis\") \\\n",
    "    .getOrCreate()\n",
    "\n",
    "vertices = spark.createDataFrame([(\"1\", \"Alice\"), (\"2\", \"Bob\")], [\"id\", \"name\"])\n",
    "edges = spark.createDataFrame([(\"1\", \"2\", \"friend\")], [\"src\", \"dst\", \"relationship\"])\n",
    "\n",
    "g = GraphFrame(vertices, edges)\n",
    "g.vertices.show()\n",
    "g.edges.show()"
   ]
  },
  {
   "cell_type": "code",
   "execution_count": 2,
   "id": "f1fcfd18",
   "metadata": {},
   "outputs": [],
   "source": [
    "from graphframes import GraphFrame"
   ]
  },
  {
   "cell_type": "markdown",
   "id": "9de98261",
   "metadata": {},
   "source": []
  },
  {
   "cell_type": "code",
   "execution_count": 3,
   "id": "41c26f8f",
   "metadata": {},
   "outputs": [
    {
     "name": "stdout",
     "output_type": "stream",
     "text": [
      "+---+-------+---+\n",
      "| id|   name|age|\n",
      "+---+-------+---+\n",
      "|  a|  Alice| 34|\n",
      "|  b|    Bob| 36|\n",
      "|  c|Charlie| 30|\n",
      "|  d|  David| 29|\n",
      "|  e| Esther| 32|\n",
      "+---+-------+---+\n",
      "\n"
     ]
    }
   ],
   "source": [
    "# Cell 3: Create vertices DataFrame\n",
    "vertices = spark.createDataFrame([\n",
    "    (\"a\", \"Alice\", 34),\n",
    "    (\"b\", \"Bob\", 36),\n",
    "    (\"c\", \"Charlie\", 30),\n",
    "    (\"d\", \"David\", 29),\n",
    "    (\"e\", \"Esther\", 32)\n",
    "], [\"id\", \"name\", \"age\"])\n",
    "\n",
    "vertices.show()"
   ]
  },
  {
   "cell_type": "code",
   "execution_count": 4,
   "id": "0ab421a0",
   "metadata": {},
   "outputs": [
    {
     "name": "stdout",
     "output_type": "stream",
     "text": [
      "+---+---+------------+\n",
      "|src|dst|relationship|\n",
      "+---+---+------------+\n",
      "|  a|  b|      friend|\n",
      "|  b|  c|      follow|\n",
      "|  c|  b|      follow|\n",
      "|  d|  a|      friend|\n",
      "|  e|  d|      follow|\n",
      "+---+---+------------+\n",
      "\n"
     ]
    }
   ],
   "source": [
    "# Cell 4: Create edges DataFrame\n",
    "edges = spark.createDataFrame([\n",
    "    (\"a\", \"b\", \"friend\"),\n",
    "    (\"b\", \"c\", \"follow\"),\n",
    "    (\"c\", \"b\", \"follow\"),\n",
    "    (\"d\", \"a\", \"friend\"),\n",
    "    (\"e\", \"d\", \"follow\")\n",
    "], [\"src\", \"dst\", \"relationship\"])\n",
    "\n",
    "edges.show()"
   ]
  },
  {
   "cell_type": "code",
   "execution_count": 5,
   "id": "974ca100",
   "metadata": {},
   "outputs": [],
   "source": [
    "# Cell 5: Create the GraphFrame\n",
    "g = GraphFrame(vertices, edges)"
   ]
  },
  {
   "cell_type": "code",
   "execution_count": 6,
   "id": "14669366",
   "metadata": {},
   "outputs": [
    {
     "name": "stdout",
     "output_type": "stream",
     "text": [
      "Vertices:\n",
      "+---+-------+---+\n",
      "| id|   name|age|\n",
      "+---+-------+---+\n",
      "|  a|  Alice| 34|\n",
      "|  b|    Bob| 36|\n",
      "|  c|Charlie| 30|\n",
      "|  d|  David| 29|\n",
      "|  e| Esther| 32|\n",
      "+---+-------+---+\n",
      "\n",
      "Edges:\n",
      "+---+---+------------+\n",
      "|src|dst|relationship|\n",
      "+---+---+------------+\n",
      "|  a|  b|      friend|\n",
      "|  b|  c|      follow|\n",
      "|  c|  b|      follow|\n",
      "|  d|  a|      friend|\n",
      "|  e|  d|      follow|\n",
      "+---+---+------------+\n",
      "\n"
     ]
    }
   ],
   "source": [
    "# Cell 6: Display vertices and edges\n",
    "print(\"Vertices:\")\n",
    "g.vertices.show()\n",
    "\n",
    "print(\"Edges:\")\n",
    "g.edges.show()"
   ]
  },
  {
   "cell_type": "code",
   "execution_count": 7,
   "id": "cb91bde9",
   "metadata": {},
   "outputs": [
    {
     "name": "stdout",
     "output_type": "stream",
     "text": [
      "PageRank:\n"
     ]
    },
    {
     "name": "stderr",
     "output_type": "stream",
     "text": [
      "/usr/local/spark/python/pyspark/sql/dataframe.py:148: UserWarning: DataFrame constructor is internal. Do not directly use it.\n",
      "  warnings.warn(\"DataFrame constructor is internal. Do not directly use it.\")\n"
     ]
    },
    {
     "name": "stdout",
     "output_type": "stream",
     "text": [
      "+---+-------+---+-------------------+\n",
      "| id|   name|age|           pagerank|\n",
      "+---+-------+---+-------------------+\n",
      "|  e| Esther| 32|               0.15|\n",
      "|  d|  David| 29|0.27749999999999997|\n",
      "|  c|Charlie| 30| 1.8008009374999996|\n",
      "|  b|    Bob| 36|       2.3858240625|\n",
      "|  a|  Alice| 34|0.38587499999999997|\n",
      "+---+-------+---+-------------------+\n",
      "\n"
     ]
    }
   ],
   "source": [
    "# Cell 7: Run PageRank\n",
    "print(\"PageRank:\")\n",
    "g.pageRank(resetProbability=0.15, maxIter=5).vertices.show()"
   ]
  },
  {
   "cell_type": "code",
   "execution_count": 8,
   "id": "fb4c6ddf",
   "metadata": {},
   "outputs": [
    {
     "name": "stdout",
     "output_type": "stream",
     "text": [
      "BFS from a to c:\n",
      "+--------------+--------------+------------+--------------+----------------+\n",
      "|          from|            e0|          v1|            e1|              to|\n",
      "+--------------+--------------+------------+--------------+----------------+\n",
      "|{a, Alice, 34}|{a, b, friend}|{b, Bob, 36}|{b, c, follow}|{c, Charlie, 30}|\n",
      "+--------------+--------------+------------+--------------+----------------+\n",
      "\n"
     ]
    }
   ],
   "source": [
    "# Cell 8: Run BFS from a to c\n",
    "print(\"BFS from a to c:\")\n",
    "g.bfs(fromExpr=\"id = 'a'\", toExpr=\"id = 'c'\").show()"
   ]
  },
  {
   "cell_type": "code",
   "execution_count": 9,
   "id": "5ea3a23e",
   "metadata": {},
   "outputs": [],
   "source": [
    "# Cell 9: Stop Spark session\n",
    "spark.stop()"
   ]
  }
 ],
 "metadata": {
  "kernelspec": {
   "display_name": "Python 3 (ipykernel)",
   "language": "python",
   "name": "python3"
  },
  "language_info": {
   "codemirror_mode": {
    "name": "ipython",
    "version": 3
   },
   "file_extension": ".py",
   "mimetype": "text/x-python",
   "name": "python",
   "nbconvert_exporter": "python",
   "pygments_lexer": "ipython3",
   "version": "3.10.11"
  }
 },
 "nbformat": 4,
 "nbformat_minor": 5
}
