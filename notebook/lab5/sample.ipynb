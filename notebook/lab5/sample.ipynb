{
 "cells": [
  {
   "cell_type": "code",
   "execution_count": null,
   "id": "e12a2e8d",
   "metadata": {},
   "outputs": [],
   "source": [
    "from pyspark.sql import SparkSession\n",
    "\n",
    "spark = SparkSession.builder \\\n",
    "    .appName(\"GraphFramesExample\") \\\n",
    "    .config(\"spark.jars.packages\", \"graphframes:graphframes:0.8.3-spark3.1-s_2.12\") \\\n",
    "    .master(\"spark://spark-master:7077\") \\\n",
    "    .config(\"spark.submit.deployMode\", \"client\") \\\n",
    "    .config(\"spark.driver.host\", \"jupyter\") \\\n",
    "    .getOrCreate()"
   ]
  },
  {
   "cell_type": "code",
   "execution_count": null,
   "id": "f1fcfd18",
   "metadata": {},
   "outputs": [],
   "source": [
    "from graphframes import GraphFrame"
   ]
  },
  {
   "cell_type": "code",
   "execution_count": null,
   "id": "41c26f8f",
   "metadata": {},
   "outputs": [],
   "source": [
    "# Cell 3: Create vertices DataFrame\n",
    "vertices = spark.createDataFrame([\n",
    "    (\"a\", \"Alice\", 34),\n",
    "    (\"b\", \"Bob\", 36),\n",
    "    (\"c\", \"Charlie\", 30),\n",
    "    (\"d\", \"David\", 29),\n",
    "    (\"e\", \"Esther\", 32)\n",
    "], [\"id\", \"name\", \"age\"])\n",
    "\n",
    "vertices.show()"
   ]
  },
  {
   "cell_type": "code",
   "execution_count": null,
   "id": "0ab421a0",
   "metadata": {},
   "outputs": [],
   "source": [
    "# Cell 4: Create edges DataFrame\n",
    "edges = spark.createDataFrame([\n",
    "    (\"a\", \"b\", \"friend\"),\n",
    "    (\"b\", \"c\", \"follow\"),\n",
    "    (\"c\", \"b\", \"follow\"),\n",
    "    (\"d\", \"a\", \"friend\"),\n",
    "    (\"e\", \"d\", \"follow\")\n",
    "], [\"src\", \"dst\", \"relationship\"])\n",
    "\n",
    "edges.show()"
   ]
  },
  {
   "cell_type": "code",
   "execution_count": null,
   "id": "974ca100",
   "metadata": {},
   "outputs": [],
   "source": [
    "# Cell 5: Create the GraphFrame\n",
    "g = GraphFrame(vertices, edges)"
   ]
  },
  {
   "cell_type": "code",
   "execution_count": null,
   "id": "14669366",
   "metadata": {},
   "outputs": [],
   "source": [
    "# Cell 6: Display vertices and edges\n",
    "print(\"Vertices:\")\n",
    "g.vertices.show()\n",
    "\n",
    "print(\"Edges:\")\n",
    "g.edges.show()"
   ]
  },
  {
   "cell_type": "code",
   "execution_count": null,
   "id": "cb91bde9",
   "metadata": {},
   "outputs": [],
   "source": [
    "# Cell 7: Run PageRank\n",
    "print(\"PageRank:\")\n",
    "g.pageRank(resetProbability=0.15, maxIter=5).vertices.show()"
   ]
  },
  {
   "cell_type": "code",
   "execution_count": null,
   "id": "fb4c6ddf",
   "metadata": {},
   "outputs": [],
   "source": [
    "# Cell 8: Run BFS from a to c\n",
    "print(\"BFS from a to c:\")\n",
    "g.bfs(fromExpr=\"id = 'a'\", toExpr=\"id = 'c'\").show()"
   ]
  },
  {
   "cell_type": "code",
   "execution_count": null,
   "id": "5ea3a23e",
   "metadata": {},
   "outputs": [],
   "source": [
    "# Cell 9: Stop Spark session\n",
    "spark.stop()"
   ]
  }
 ],
 "metadata": {
  "language_info": {
   "name": "python"
  }
 },
 "nbformat": 4,
 "nbformat_minor": 5
}
