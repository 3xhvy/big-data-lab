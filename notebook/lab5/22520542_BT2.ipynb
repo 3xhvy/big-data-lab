{
 "cells": [
  {
   "cell_type": "code",
   "execution_count": 1,
   "id": "c48e60e5",
   "metadata": {},
   "outputs": [],
   "source": [
    "from graphframes import *\n",
    "from pyspark.storagelevel import StorageLevel\n",
    "from pyspark.sql.functions import col\n",
    "import os\n",
    "from pyspark.sql import SparkSession\n",
    "\n",
    "spark = SparkSession.builder \\\n",
    "    .appName(\"GraphAnalysis\") \\\n",
    "    .getOrCreate()"
   ]
  },
  {
   "cell_type": "code",
   "execution_count": 2,
   "id": "5044ae7d",
   "metadata": {},
   "outputs": [],
   "source": [
    "v = spark.read.csv(\"data/2_people_data_2k.csv\", header=True, inferSchema=True)\n",
    "e = spark.read.csv(\"data/2_connections_data_300k.csv\", header=True, inferSchema=True)"
   ]
  },
  {
   "cell_type": "code",
   "execution_count": 3,
   "id": "6a5bb35d",
   "metadata": {},
   "outputs": [
    {
     "name": "stderr",
     "output_type": "stream",
     "text": [
      "/usr/local/spark/python/pyspark/sql/dataframe.py:169: UserWarning: DataFrame.sql_ctx is an internal property, and will be removed in future releases. Use DataFrame.sparkSession instead.\n",
      "  warnings.warn(\n"
     ]
    },
    {
     "data": {
      "text/plain": [
       "GraphFrame(v:[id: int, name: string ... 1 more field], e:[src: int, dst: int ... 1 more field])"
      ]
     },
     "execution_count": 3,
     "metadata": {},
     "output_type": "execute_result"
    }
   ],
   "source": [
    "g = GraphFrame(v, e)\n",
    "g.persist(StorageLevel.MEMORY_AND_DISK)"
   ]
  },
  {
   "cell_type": "markdown",
   "id": "f5bd6ff0",
   "metadata": {},
   "source": [
    "a) Ai là người có nhiều bạn nhất (tổng bậc cao nhất)?"
   ]
  },
  {
   "cell_type": "code",
   "execution_count": 5,
   "id": "1e5419b1",
   "metadata": {},
   "outputs": [
    {
     "name": "stdout",
     "output_type": "stream",
     "text": [
      "+----+------------+------------+---+\n",
      "|  id|total_degree|        name|age|\n",
      "+----+------------+------------+---+\n",
      "|1768|         353|Mai Bảo Hạnh| 61|\n",
      "+----+------------+------------+---+\n",
      "only showing top 1 row\n",
      "\n"
     ]
    }
   ],
   "source": [
    "from pyspark.sql.functions import col\n",
    "\n",
    "# Tổng bậc = số lần xuất hiện trong src hoặc dst\n",
    "degrees = g.inDegrees.union(g.outDegrees).groupBy(\"id\").sum(\"inDegree\") \\\n",
    "    .withColumnRenamed(\"sum(inDegree)\", \"total_degree\") \\\n",
    "    .join(g.vertices, on=\"id\")\n",
    "\n",
    "degrees.orderBy(col(\"total_degree\").desc()).show(1)"
   ]
  },
  {
   "cell_type": "markdown",
   "id": "9e6f21d1",
   "metadata": {},
   "source": [
    "b) Ai có tầm ảnh hưởng lớn nhất theo PageRank?"
   ]
  },
  {
   "cell_type": "markdown",
   "id": "8af2ae1e",
   "metadata": {},
   "source": []
  },
  {
   "cell_type": "code",
   "execution_count": 6,
   "id": "c82112f8",
   "metadata": {},
   "outputs": [
    {
     "name": "stdout",
     "output_type": "stream",
     "text": [
      "+---+---------+------------------+\n",
      "| id|     name|          pagerank|\n",
      "+---+---------+------------------+\n",
      "|918|Vũ Phương|1.2482510238869442|\n",
      "+---+---------+------------------+\n",
      "only showing top 1 row\n",
      "\n"
     ]
    }
   ],
   "source": [
    "pagerank = g.pageRank(resetProbability=0.15, maxIter=10)\n",
    "pagerank.vertices.select(\"id\", \"name\", \"pagerank\").orderBy(col(\"pagerank\").desc()).show(1)"
   ]
  },
  {
   "cell_type": "markdown",
   "id": "96c68d46",
   "metadata": {},
   "source": [
    "c) Liệt kê tất cả các \"bạn của bạn\" của một người cụ thể"
   ]
  },
  {
   "cell_type": "code",
   "execution_count": 7,
   "id": "2c9624bb",
   "metadata": {},
   "outputs": [
    {
     "name": "stdout",
     "output_type": "stream",
     "text": [
      "Các 'bạn của bạn' của Nguyễn An:\n",
      "+----------------+\n",
      "|name            |\n",
      "+----------------+\n",
      "|Phạm Phú Huy    |\n",
      "|Dương Bảo       |\n",
      "|Trần An         |\n",
      "|Phạm Xuân Phương|\n",
      "|Mai Trí Tùng    |\n",
      "|Đặng Đức Quang  |\n",
      "|Phạm Hữu Hạnh   |\n",
      "|Vũ Hữu Hà       |\n",
      "|Trần Quang      |\n",
      "|Hoàng Hải Trọng |\n",
      "|Mai Văn An      |\n",
      "|Dương Xuân Lâm  |\n",
      "|Vũ Ngọc         |\n",
      "|Trần Xuân Nhật  |\n",
      "|Vũ Đức Trọng    |\n",
      "|Bùi Dương       |\n",
      "|Phạm Ánh        |\n",
      "|Đặng Mai        |\n",
      "|Nguyễn Linh     |\n",
      "|Bùi Châu        |\n",
      "+----------------+\n",
      "only showing top 20 rows\n",
      "\n"
     ]
    }
   ],
   "source": [
    "target_name = \"Nguyễn An\"\n",
    "target_id = g.vertices.filter(col(\"name\") == target_name).select(\"id\").first()[\"id\"]\n",
    "\n",
    "fof = g.find(\"(a)-[]->(b); (b)-[]->(c)\") \\\n",
    "    .filter(f\"a.id = '{target_id}' AND c.id != a.id\") \\\n",
    "    .selectExpr(\"a.id as user\", \"b.id as friend\", \"c.id as friend_of_friend\") \\\n",
    "    .join(g.vertices.alias(\"c_v\"), col(\"friend_of_friend\") == col(\"c_v.id\")) \\\n",
    "    .select(\"c_v.name\").distinct()\n",
    "\n",
    "print(f\"Các 'bạn của bạn' của {target_name}:\")\n",
    "fof.show(truncate=False)\n"
   ]
  },
  {
   "cell_type": "markdown",
   "id": "41f86403",
   "metadata": {},
   "source": [
    "d) Đồ thị có bao nhiêu thành phần liên thông? Nhóm nào lớn nhất?"
   ]
  },
  {
   "cell_type": "code",
   "execution_count": 10,
   "id": "8b8c86ff",
   "metadata": {},
   "outputs": [
    {
     "name": "stdout",
     "output_type": "stream",
     "text": [
      "Số thành phần liên thông: 1\n",
      "Thành phần liên thông lớn nhất:\n",
      "+---------+-----+\n",
      "|component|count|\n",
      "+---------+-----+\n",
      "|        1| 2000|\n",
      "+---------+-----+\n",
      "\n"
     ]
    }
   ],
   "source": [
    "spark.sparkContext.setCheckpointDir(\"/tmp/graphframes-checkpoint\")\n",
    "\n",
    "cc = g.connectedComponents()\n",
    "group_counts = cc.groupBy(\"component\").count().orderBy(col(\"count\").desc())\n",
    "\n",
    "# Tổng số thành phần\n",
    "print(\"Số thành phần liên thông:\", group_counts.count())\n",
    "\n",
    "# Thành phần lớn nhất\n",
    "print(\"Thành phần liên thông lớn nhất:\")\n",
    "group_counts.show(1)"
   ]
  },
  {
   "cell_type": "markdown",
   "id": "a259398a",
   "metadata": {},
   "source": [
    "e) Tìm đường đi ngắn nhất từ 'Vũ Linh' đến 'Phạm Phúc'"
   ]
  },
  {
   "cell_type": "code",
   "execution_count": null,
   "id": "95c749ef",
   "metadata": {},
   "outputs": [
    {
     "name": "stdout",
     "output_type": "stream",
     "text": [
      "+-----------------+------------------+---------------------------+------------------+-------------------+\n",
      "|from             |e0                |v1                         |e1                |to                 |\n",
      "+-----------------+------------------+---------------------------+------------------+-------------------+\n",
      "|{20, Vũ Linh, 65}|{20, 588, follow} |{588, Bùi Tùng, 25}        |{588, 11, follow} |{11, Phạm Phúc, 68}|\n",
      "|{20, Vũ Linh, 65}|{20, 1621, follow}|{1621, Phạm Tùng, 29}      |{1621, 11, friend}|{11, Phạm Phúc, 68}|\n",
      "|{20, Vũ Linh, 65}|{20, 402, friend} |{402, Trần Hoàng Hà, 40}   |{402, 11, friend} |{11, Phạm Phúc, 68}|\n",
      "|{20, Vũ Linh, 65}|{20, 764, follow} |{764, Trần Quang Trọng, 67}|{764, 11, follow} |{11, Phạm Phúc, 68}|\n",
      "|{20, Vũ Linh, 65}|{20, 347, follow} |{347, Phạm Dương, 58}      |{347, 11, friend} |{11, Phạm Phúc, 68}|\n",
      "|{20, Vũ Linh, 65}|{20, 1240, follow}|{1240, Hoàng Dũng, 40}     |{1240, 11, follow}|{11, Phạm Phúc, 68}|\n",
      "|{20, Vũ Linh, 65}|{20, 568, friend} |{568, Trần Hoàng Hà, 55}   |{568, 11, friend} |{11, Phạm Phúc, 68}|\n",
      "|{20, Vũ Linh, 65}|{20, 1281, follow}|{1281, Trần Phú Nhiên, 28} |{1281, 11, follow}|{11, Phạm Phúc, 68}|\n",
      "|{20, Vũ Linh, 65}|{20, 942, friend} |{942, Lê Ngọc, 74}         |{942, 11, follow} |{11, Phạm Phúc, 68}|\n",
      "|{20, Vũ Linh, 65}|{20, 1342, friend}|{1342, Đặng Bảo Minh, 42}  |{1342, 11, follow}|{11, Phạm Phúc, 68}|\n",
      "|{20, Vũ Linh, 65}|{20, 368, friend} |{368, Trần Mai Bảo, 53}    |{368, 11, follow} |{11, Phạm Phúc, 68}|\n",
      "|{20, Vũ Linh, 65}|{20, 926, friend} |{926, Trần Thành, 25}      |{926, 11, follow} |{11, Phạm Phúc, 68}|\n",
      "|{20, Vũ Linh, 65}|{20, 1930, follow}|{1930, Phạm Trí Phương, 41}|{1930, 11, follow}|{11, Phạm Phúc, 68}|\n",
      "+-----------------+------------------+---------------------------+------------------+-------------------+\n",
      "\n"
     ]
    }
   ],
   "source": [
    "from_name = \"Vũ Linh\"\n",
    "to_name = \"Phạm Phúc\"\n",
    "\n",
    "from_id = g.vertices.filter(col(\"name\") == from_name).select(\"id\").first()[\"id\"]\n",
    "to_id = g.vertices.filter(col(\"name\") == to_name).select(\"id\").first()[\"id\"]\n",
    "\n",
    "paths = g.bfs(fromExpr=f\"id = '{from_id}'\", toExpr=f\"id = '{to_id}'\", maxPathLength=5)\n",
    "paths.show(truncate=False)"
   ]
  }
 ],
 "metadata": {
  "kernelspec": {
   "display_name": "Python 3 (ipykernel)",
   "language": "python",
   "name": "python3"
  },
  "language_info": {
   "codemirror_mode": {
    "name": "ipython",
    "version": 3
   },
   "file_extension": ".py",
   "mimetype": "text/x-python",
   "name": "python",
   "nbconvert_exporter": "python",
   "pygments_lexer": "ipython3",
   "version": "3.10.11"
  }
 },
 "nbformat": 4,
 "nbformat_minor": 5
}
