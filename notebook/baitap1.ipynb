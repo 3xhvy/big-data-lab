{
 "cells": [
  {
   "cell_type": "code",
   "execution_count": null,
   "metadata": {},
   "outputs": [
    {
     "name": "stdout",
     "output_type": "stream",
     "text": [
      "3.4.0\n",
      "spark://spark-master:7077\n",
      "✅ Connected using existing Spark session.\n",
      "📦 RDD created with data: [1.0, 2.0, 3.0, 4.0, 5.0]\n",
      "📊 Trung bình cộng: 3.0\n",
      "📊 Trung bình nhân: 2.6051710846973517\n"
     ]
    }
   ],
   "source": [
    "from pyspark.sql import SparkSession\n",
    "import math\n",
    "\n",
    "SparkSession.getActiveSession().stop() if SparkSession.getActiveSession() else None\n",
    "spark = SparkSession.builder \\\n",
    "    .appName(\"BaiTap01\") \\\n",
    "    .master(\"spark://spark-master:7077\") \\\n",
    "    .config(\"spark.submit.deployMode\", \"client\") \\\n",
    "    .config(\"spark.driver.host\", \"jupyter\") \\\n",
    "    .getOrCreate()\n",
    "\n",
    "sc = spark.sparkContext\n",
    "print(\"✅ Connected using existing Spark session.\")\n",
    "\n",
    "nums = [1.0, 2.0, 3.0, 4.0, 5.0]\n",
    "rdd = sc.parallelize(nums)\n",
    "print(f\"📦 RDD created with data: {nums}\")\n",
    "\n",
    "mean = rdd.mean()\n",
    "print(f\"📊 Trung bình cộng: {mean}\")\n",
    "\n",
    "geom_mean = math.exp(rdd.map(math.log).mean())\n",
    "print(f\"📊 Trung bình nhân: {geom_mean}\")\n",
    "\n",
    "\n",
    "# Stop the context\n",
    "sc.stop()\n"
   ]
  },
  {
   "cell_type": "code",
   "execution_count": null,
   "metadata": {},
   "outputs": [],
   "source": []
  }
 ],
 "metadata": {
  "kernelspec": {
   "display_name": "Python 3 (ipykernel)",
   "language": "python",
   "name": "python3"
  },
  "language_info": {
   "codemirror_mode": {
    "name": "ipython",
    "version": 3
   },
   "file_extension": ".py",
   "mimetype": "text/x-python",
   "name": "python",
   "nbconvert_exporter": "python",
   "pygments_lexer": "ipython3",
   "version": "3.10.11"
  }
 },
 "nbformat": 4,
 "nbformat_minor": 4
}
